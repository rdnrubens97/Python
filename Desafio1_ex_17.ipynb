{
  "nbformat": 4,
  "nbformat_minor": 0,
  "metadata": {
    "colab": {
      "name": "Desafio1 - ex. 17",
      "provenance": [],
      "authorship_tag": "ABX9TyMJ3wHiqO4Bp5VApeuW+Tt4",
      "include_colab_link": true
    },
    "kernelspec": {
      "name": "python3",
      "display_name": "Python 3"
    },
    "language_info": {
      "name": "python"
    }
  },
  "cells": [
    {
      "cell_type": "markdown",
      "metadata": {
        "id": "view-in-github",
        "colab_type": "text"
      },
      "source": [
        "<a href=\"https://colab.research.google.com/github/rdnrubens97/Python/blob/main/Desafio1_ex_17.ipynb\" target=\"_parent\"><img src=\"https://colab.research.google.com/assets/colab-badge.svg\" alt=\"Open In Colab\"/></a>"
      ]
    },
    {
      "cell_type": "markdown",
      "source": [
        "#Desafio DevPro\n"
      ],
      "metadata": {
        "id": "yrDfhlBtwTe_"
      }
    },
    {
      "cell_type": "markdown",
      "source": [
        "Resolução de exercícios da lista [PythonBrasil](https://wiki.python.org.br/ListaDeExercicios)"
      ],
      "metadata": {
        "id": "9NHr24wFwVn7"
      }
    },
    {
      "cell_type": "markdown",
      "source": [
        "Estrutura Sequencial [Exercícios](https://wiki.python.org.br/EstruturaSequencial)"
      ],
      "metadata": {
        "id": "jxpZjcFMw1EU"
      }
    },
    {
      "cell_type": "markdown",
      "source": [
        "##Exercício 1"
      ],
      "metadata": {
        "id": "1M5E5J5lxAKz"
      }
    },
    {
      "cell_type": "code",
      "source": [
        "print('Olá Mundo')"
      ],
      "metadata": {
        "colab": {
          "base_uri": "https://localhost:8080/"
        },
        "id": "AUaoHDDDxCns",
        "outputId": "e61ed9f3-fc17-4970-f41b-2ffb38aa3a4e"
      },
      "execution_count": 1,
      "outputs": [
        {
          "output_type": "stream",
          "name": "stdout",
          "text": [
            "Olá Mundo\n"
          ]
        }
      ]
    },
    {
      "cell_type": "code",
      "source": [
        "type('Olá Mundo')"
      ],
      "metadata": {
        "colab": {
          "base_uri": "https://localhost:8080/"
        },
        "id": "MXIp_S1zxPAz",
        "outputId": "1c967757-eee9-4a68-d629-ed776fbee27a"
      },
      "execution_count": 2,
      "outputs": [
        {
          "output_type": "execute_result",
          "data": {
            "text/plain": [
              "str"
            ]
          },
          "metadata": {},
          "execution_count": 2
        }
      ]
    },
    {
      "cell_type": "markdown",
      "source": [
        "##Exercício 2"
      ],
      "metadata": {
        "id": "ZmZO-FZvydn4"
      }
    },
    {
      "cell_type": "code",
      "source": [
        "numero = input(\"Digite um número: \")\n",
        "print(f'O número informado foi: {numero}')"
      ],
      "metadata": {
        "colab": {
          "base_uri": "https://localhost:8080/"
        },
        "id": "MNpJUfNGygLi",
        "outputId": "84516751-c029-47ef-f461-3c9dfcf0f8e2"
      },
      "execution_count": 6,
      "outputs": [
        {
          "output_type": "stream",
          "name": "stdout",
          "text": [
            "Digite um número: 52\n",
            "O número informado foi: 52\n"
          ]
        }
      ]
    },
    {
      "cell_type": "markdown",
      "source": [
        "##Exercício 3"
      ],
      "metadata": {
        "id": "kJrcvSoYzGIR"
      }
    },
    {
      "cell_type": "code",
      "source": [
        "numero_1 = int(input('Digite um numero: '))\n",
        "numero_2 = int(input('Digite outro numero: '))\n",
        "soma = numero_1 + numero_2\n",
        "print(f'A soma dos dois números é: {soma}')"
      ],
      "metadata": {
        "colab": {
          "base_uri": "https://localhost:8080/"
        },
        "id": "FCBlS5MezI6e",
        "outputId": "95aed6da-ff93-4244-9fc6-a76797e110c8"
      },
      "execution_count": 7,
      "outputs": [
        {
          "output_type": "stream",
          "name": "stdout",
          "text": [
            "Digite um numero: 10\n",
            "Digite outro numero: 1\n",
            "A soma dos dois números é: 11\n"
          ]
        }
      ]
    },
    {
      "cell_type": "markdown",
      "source": [
        "##Exercício 17"
      ],
      "metadata": {
        "id": "2e4EqhaZ0X1_"
      }
    },
    {
      "cell_type": "code",
      "source": [
        "area_pintura = float(input(\"Qual é a área a ser pintada em m2: \"))\n",
        "litros = area_pintura / 6\n",
        "\n",
        "escolha = str(input(\"Sua escolha será em comprar latas, comprar galoes ou misturar latas e galoes (latas, galoes, misturar)?\"))\n",
        "\n",
        "if escolha == 'latas':\n",
        "  quantidade_latas = litros / 18\n",
        "  preco_latas = quantidade_latas * 80\n",
        "  print(f'Serão necessárias {quantidade_latas} latas, totalizando o valor de R${preco_latas}')\n",
        "elif escolha =='galoes':\n",
        "  quantidade_galoes = litros / 3.6\n",
        "  preco_galoes = quantidade_galoes * 80\n",
        "  print(f'Serão necessários {quantidade_galoes} galões, totalizando o valor de R${preco_galoes}')\n",
        "else:\n",
        "  \n",
        "  quantidade_latas_na_mistura = litros // 18\n",
        "  quantidade_galoes_na_mistura = (litros % 18) / 3.6\n",
        "  preco_latas_na_mistura = quantidade_latas_na_mistura * 80\n",
        "  preco_galoes_na_mistura = quantidade_galoes_na_mistura * 25\n",
        "  preco_mistura = preco_galoes_na_mistura + preco_latas_na_mistura\n",
        "  print(f'Serão necessárias {quantidade_latas_na_mistura} latas e {quantidade_galoes_na_mistura} galões, totalizando o valor de R${preco_mistura}')"
      ],
      "metadata": {
        "colab": {
          "base_uri": "https://localhost:8080/"
        },
        "id": "y7kTx9RI0oPT",
        "outputId": "16d152ed-4fe6-4921-caa9-8024a5f879d0"
      },
      "execution_count": 108,
      "outputs": [
        {
          "output_type": "stream",
          "name": "stdout",
          "text": [
            "Qual é a área a ser pintada em m2: 600\n",
            "Sua escolha será em comprar latas, comprar galoes ou misturar latas e galoes (latas, galoes, misturar)?galoes\n",
            "Serão necessários 27.77777777777778 galões, totalizando o valor de R$2222.222222222222\n"
          ]
        }
      ]
    }
  ]
}