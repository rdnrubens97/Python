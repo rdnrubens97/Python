{
  "nbformat": 4,
  "nbformat_minor": 0,
  "metadata": {
    "colab": {
      "name": "Desafio1 - ex. 17",
      "provenance": [],
      "authorship_tag": "ABX9TyPiv9/3wAJCmvnLJ1rTV55T",
      "include_colab_link": true
    },
    "kernelspec": {
      "name": "python3",
      "display_name": "Python 3"
    },
    "language_info": {
      "name": "python"
    }
  },
  "cells": [
    {
      "cell_type": "markdown",
      "metadata": {
        "id": "view-in-github",
        "colab_type": "text"
      },
      "source": [
        "<a href=\"https://colab.research.google.com/github/rdnrubens97/Python/blob/main/Desafio1_ex_17.ipynb\" target=\"_parent\"><img src=\"https://colab.research.google.com/assets/colab-badge.svg\" alt=\"Open In Colab\"/></a>"
      ]
    },
    {
      "cell_type": "markdown",
      "source": [
        "#Desafio DevPro\n"
      ],
      "metadata": {
        "id": "yrDfhlBtwTe_"
      }
    },
    {
      "cell_type": "markdown",
      "source": [
        "Resolução de exercícios da lista [PythonBrasil](https://wiki.python.org.br/ListaDeExercicios)"
      ],
      "metadata": {
        "id": "9NHr24wFwVn7"
      }
    },
    {
      "cell_type": "markdown",
      "source": [
        "#Estrutura Sequencial [Exercícios](https://wiki.python.org.br/EstruturaSequencial)"
      ],
      "metadata": {
        "id": "jxpZjcFMw1EU"
      }
    },
    {
      "cell_type": "markdown",
      "source": [
        "##Exercício 1"
      ],
      "metadata": {
        "id": "1M5E5J5lxAKz"
      }
    },
    {
      "cell_type": "code",
      "source": [
        "print('Olá Mundo')"
      ],
      "metadata": {
        "colab": {
          "base_uri": "https://localhost:8080/"
        },
        "id": "AUaoHDDDxCns",
        "outputId": "e61ed9f3-fc17-4970-f41b-2ffb38aa3a4e"
      },
      "execution_count": null,
      "outputs": [
        {
          "output_type": "stream",
          "name": "stdout",
          "text": [
            "Olá Mundo\n"
          ]
        }
      ]
    },
    {
      "cell_type": "code",
      "source": [
        "type('Olá Mundo')"
      ],
      "metadata": {
        "colab": {
          "base_uri": "https://localhost:8080/"
        },
        "id": "MXIp_S1zxPAz",
        "outputId": "1c967757-eee9-4a68-d629-ed776fbee27a"
      },
      "execution_count": null,
      "outputs": [
        {
          "output_type": "execute_result",
          "data": {
            "text/plain": [
              "str"
            ]
          },
          "metadata": {},
          "execution_count": 2
        }
      ]
    },
    {
      "cell_type": "markdown",
      "source": [
        "##Exercício 2"
      ],
      "metadata": {
        "id": "ZmZO-FZvydn4"
      }
    },
    {
      "cell_type": "code",
      "source": [
        "numero = input(\"Digite um número: \")\n",
        "print(f'O número informado foi: {numero}')"
      ],
      "metadata": {
        "colab": {
          "base_uri": "https://localhost:8080/"
        },
        "id": "MNpJUfNGygLi",
        "outputId": "84516751-c029-47ef-f461-3c9dfcf0f8e2"
      },
      "execution_count": null,
      "outputs": [
        {
          "output_type": "stream",
          "name": "stdout",
          "text": [
            "Digite um número: 52\n",
            "O número informado foi: 52\n"
          ]
        }
      ]
    },
    {
      "cell_type": "markdown",
      "source": [
        "##Exercício 3"
      ],
      "metadata": {
        "id": "kJrcvSoYzGIR"
      }
    },
    {
      "cell_type": "code",
      "source": [
        "numero_1 = int(input('Digite um numero: '))\n",
        "numero_2 = int(input('Digite outro numero: '))\n",
        "soma = numero_1 + numero_2\n",
        "print(f'A soma dos dois números é: {soma}')"
      ],
      "metadata": {
        "colab": {
          "base_uri": "https://localhost:8080/"
        },
        "id": "FCBlS5MezI6e",
        "outputId": "95aed6da-ff93-4244-9fc6-a76797e110c8"
      },
      "execution_count": null,
      "outputs": [
        {
          "output_type": "stream",
          "name": "stdout",
          "text": [
            "Digite um numero: 10\n",
            "Digite outro numero: 1\n",
            "A soma dos dois números é: 11\n"
          ]
        }
      ]
    },
    {
      "cell_type": "markdown",
      "source": [
        "##Exercício 17"
      ],
      "metadata": {
        "id": "2e4EqhaZ0X1_"
      }
    },
    {
      "cell_type": "code",
      "source": [
        "area_pintura = float(input(\"Qual é a área a ser pintada em m2: \"))\n",
        "litros = (area_pintura*1.1) / 6 #multiplicamos por 1.1 por conta da folga de 10% na quantidade de litros\n",
        "\n",
        "print(litros)\n",
        "\n"
      ],
      "metadata": {
        "colab": {
          "base_uri": "https://localhost:8080/"
        },
        "id": "y7kTx9RI0oPT",
        "outputId": "392f476a-152b-41ef-f0fc-3a93753679aa"
      },
      "execution_count": null,
      "outputs": [
        {
          "output_type": "stream",
          "name": "stdout",
          "text": [
            "Qual é a área a ser pintada em m2: 100\n",
            "18.333333333333336\n"
          ]
        }
      ]
    },
    {
      "cell_type": "code",
      "source": [
        "import math\n",
        "\n",
        "escolha = str(input(\"Sua escolha será em comprar latas, comprar galoes ou misturar latas e galoes (latas, galoes, misturar)?\"))\n",
        "\n",
        "if escolha == 'latas':\n",
        "  quantidade_latas = math.ceil(litros / 18)\n",
        "  preco_latas = quantidade_latas * 80\n",
        "  print(f'Serão necessárias {quantidade_latas} lata(s), totalizando o valor de R${preco_latas}.')\n",
        "elif escolha =='galoes':\n",
        "  quantidade_galoes = math.ceil(litros / 3.6)\n",
        "  preco_galoes = quantidade_galoes * 25\n",
        "  print(f'Serão necessários {quantidade_galoes} galão(ões), totalizando o valor de R${preco_galoes}.')\n",
        "else:\n",
        "  quantidade_latas_na_mistura = math.ceil(litros // 18)\n",
        "  quantidade_galoes_na_mistura = math.ceil((litros % 18) / 3.6)\n",
        "  preco_latas_na_mistura = quantidade_latas_na_mistura * 80\n",
        "  preco_galoes_na_mistura = quantidade_galoes_na_mistura * 25\n",
        "  preco_mistura = preco_galoes_na_mistura + preco_latas_na_mistura\n",
        "  print(f'Serão necessárias {quantidade_latas_na_mistura} lata(s) e {quantidade_galoes_na_mistura} galão(ões), totalizando o valor de R${preco_mistura}.')\n",
        "\n",
        "\n"
      ],
      "metadata": {
        "colab": {
          "base_uri": "https://localhost:8080/"
        },
        "id": "hXA5r7CAMUbG",
        "outputId": "bb7e45f3-56b5-4f88-aac0-cde38790415c"
      },
      "execution_count": null,
      "outputs": [
        {
          "output_type": "stream",
          "name": "stdout",
          "text": [
            "Sua escolha será em comprar latas, comprar galoes ou misturar latas e galoes (latas, galoes, misturar)?mistura\n",
            "Serão necessárias 1 lata(s) e 1 galão(ões), totalizando o valor de R$105.\n"
          ]
        }
      ]
    },
    {
      "cell_type": "code",
      "source": [
        "import math\n",
        "\n",
        "quantidade_latas = math.ceil(litros / 18)\n",
        "preco_latas = quantidade_latas * 80\n",
        "print(f'Serão necessárias {quantidade_latas} lata(s), totalizando o valor de R${preco_latas}.')\n",
        "\n",
        "quantidade_galoes = math.ceil(litros / 3.6)\n",
        "preco_galoes = quantidade_galoes * 25\n",
        "print(f'Serão necessários {quantidade_galoes} galão(ões), totalizando o valor de R${preco_galoes}.')\n",
        "\n",
        "quantidade_latas_na_mistura = math.ceil(litros // 18)\n",
        "quantidade_galoes_na_mistura = math.ceil((litros % 18) / 3.6)\n",
        "preco_latas_na_mistura = quantidade_latas_na_mistura * 80\n",
        "preco_galoes_na_mistura = quantidade_galoes_na_mistura * 25\n",
        "preco_mistura = preco_galoes_na_mistura + preco_latas_na_mistura\n",
        "print(f'Serão necessárias {quantidade_latas_na_mistura} lata(s) e {quantidade_galoes_na_mistura} galão(ões), totalizando o valor de R${preco_mistura}.')"
      ],
      "metadata": {
        "colab": {
          "base_uri": "https://localhost:8080/"
        },
        "id": "_F3MrndvQhY_",
        "outputId": "1bf7e2c2-7ebc-4ba8-9afe-ae818147369c"
      },
      "execution_count": null,
      "outputs": [
        {
          "output_type": "stream",
          "name": "stdout",
          "text": [
            "Serão necessárias 2 lata(s), totalizando o valor de R$160.\n",
            "Serão necessários 6 galão(ões), totalizando o valor de R$150.\n",
            "Serão necessárias 1 lata(s) e 1 galão(ões), totalizando o valor de R$105.\n"
          ]
        }
      ]
    },
    {
      "cell_type": "markdown",
      "source": [
        "#Estrutura de Decisão:"
      ],
      "metadata": {
        "id": "cLE3ysSddqf8"
      }
    },
    {
      "cell_type": "markdown",
      "source": [
        "####Ex 3:"
      ],
      "metadata": {
        "id": "3aRBWgbsdtdD"
      }
    },
    {
      "cell_type": "code",
      "source": [
        "True, False\n",
        "print(5<6)\n",
        "print(5>=6)\n",
        "print(5 == 6)\n",
        "print(5 != 6)\n",
        "print('M' == 'A')\n",
        "print('M' == 'M')\n",
        "print('M' == 'm')\n",
        "print('Rubens'.lower(), 'Rubens'.upper())"
      ],
      "metadata": {
        "id": "GrhS3RfweKDI",
        "outputId": "cbf55d4d-432f-4eb7-d3ce-34936797fb7c",
        "colab": {
          "base_uri": "https://localhost:8080/"
        }
      },
      "execution_count": 7,
      "outputs": [
        {
          "output_type": "stream",
          "name": "stdout",
          "text": [
            "True\n",
            "False\n",
            "False\n",
            "True\n",
            "False\n",
            "True\n",
            "False\n",
            "rubens RUBENS\n"
          ]
        }
      ]
    },
    {
      "cell_type": "code",
      "source": [
        "sexo = input('Digite o seu sexo (m, f ou i):').upper()\n",
        "if sexo == 'M':\n",
        "  print('Masculino')\n",
        "elif sexo == 'F':\n",
        "  print('Feminino')  \n",
        "elif sexo == 'I':\n",
        "  print('Indefinido')\n",
        "else:\n",
        "  print('Sexo inválido')\n",
        "\n",
        "print('Finalizou o programa.')"
      ],
      "metadata": {
        "id": "feCHeTJufJu7",
        "outputId": "3464daf5-bec9-4f90-92cd-8767b36e0160",
        "colab": {
          "base_uri": "https://localhost:8080/"
        }
      },
      "execution_count": 24,
      "outputs": [
        {
          "output_type": "stream",
          "name": "stdout",
          "text": [
            "Digite o seu sexo (m, f ou i):a\n",
            "Sexo inválido\n",
            "Finalizou o programa.\n"
          ]
        }
      ]
    },
    {
      "cell_type": "markdown",
      "source": [
        "####Ex 5:"
      ],
      "metadata": {
        "id": "DF72QzTlhDzR"
      }
    },
    {
      "cell_type": "code",
      "source": [
        "nota_1 = float(input('Digite sua nota da primeira avaliação: '))\n",
        "nota_2 = float(input('Digite sua nota da segunda avaliação: '))\n",
        "media = (nota_1 + nota_2) / 2\n",
        "\n",
        "if media == 10:\n",
        "  print('Aprovado com Distinção.')\n",
        "elif media >= 7:\n",
        "  print('Apovado.')\n",
        "else:\n",
        "  print('Reprovado.')    "
      ],
      "metadata": {
        "id": "VRwwq3JRhFxP",
        "outputId": "f23e2e0c-9722-4222-fd7f-6313e5c78ed3",
        "colab": {
          "base_uri": "https://localhost:8080/"
        }
      },
      "execution_count": 30,
      "outputs": [
        {
          "output_type": "stream",
          "name": "stdout",
          "text": [
            "Digite sua nota da primeira avaliação: 7\n",
            "Digite sua nota da segunda avaliação: 6\n",
            "Reprovado.\n"
          ]
        }
      ]
    },
    {
      "cell_type": "markdown",
      "source": [
        "#### Ex 19:\n"
      ],
      "metadata": {
        "id": "Cg40aBm4jUC6"
      }
    },
    {
      "cell_type": "code",
      "source": [
        "numero = 306\n",
        "\n",
        "centenas_str = dezenas_str = unidades_str = ''\n",
        "centenas_int = numero // 100\n",
        "dezenas_int = (numero - (centenas_int *100)) // 10\n",
        "unidades_int = numero - (centenas_int * 100 + dezenas_int * 10)\n",
        "\n",
        "if centenas_int == 1:\n",
        "  centenas_str = '1 centena'\n",
        "if centenas_int > 1:\n",
        "  centenas_str = f'{centenas_int} centenas'\n",
        "if dezenas_int == 1:\n",
        "  dezenas_str = '1 dezena'\n",
        "if dezenas_int > 1:\n",
        "  dezenas_str = f'{dezenas_int} dezenas'\n",
        "if unidades_int == 1:\n",
        "  unidades_str = '1 unidades'\n",
        "if unidades_int > 1:\n",
        "  unidades_str = f'{unidades_int} unidades'\n",
        "      \n",
        "\n",
        "print(centenas_str, dezenas_str, unidades_str)"
      ],
      "metadata": {
        "id": "-4c6uDm7jGe2",
        "outputId": "8e77b6d0-5415-4493-e3b2-e78c7452c87d",
        "colab": {
          "base_uri": "https://localhost:8080/"
        }
      },
      "execution_count": 46,
      "outputs": [
        {
          "output_type": "stream",
          "name": "stdout",
          "text": [
            "3 centenas  6 unidades\n"
          ]
        }
      ]
    },
    {
      "cell_type": "code",
      "source": [
        "numero = 21\n",
        "\n",
        "centenas_str = dezenas_str = unidades_str = ''\n",
        "partes_numericas = 0\n",
        "\n",
        "centenas_int = numero // 100\n",
        "centenas_int, numero = divmod(numero, 100)\n",
        "\n",
        "if centenas_int == 1:\n",
        "  centenas_str = '1 centena'\n",
        "  partes_numericas += 1\n",
        "if centenas_int > 1:\n",
        "  centenas_str = f'{centenas_int} centenas'\n",
        "  partes_numericas += 1\n",
        "\n",
        "dezenas_int, numero = divmod(numero, 10)\n",
        "\n",
        "if dezenas_int == 1:\n",
        "  dezenas_str = '1 dezena'\n",
        "  partes_numericas += 1\n",
        "if dezenas_int > 1:\n",
        "  dezenas_str = f'{dezenas_int} dezenas'\n",
        "  partes_numericas += 1\n",
        "\n",
        "unidades_int, numero = divmod(numero, 1)\n",
        "\n",
        "if unidades_int == 1:\n",
        "  unidades_str = '1 unidade'\n",
        "  partes_numericas += 1\n",
        "if unidades_int > 1:\n",
        "  unidades_str = f'{unidades_int} unidades'\n",
        "  partes_numericas += 1\n",
        "      \n",
        "if partes_numericas == 0:\n",
        "  print('Número zero não possui centenas, dezenas ou unidades')\n",
        "elif partes_numericas == 1:\n",
        "  print(centenas_str + dezenas_str + unidades_str)\n",
        "elif partes_numericas == 3:\n",
        "  print(f'{centenas_str}, {dezenas_str} e {unidades_str}')\n",
        "elif partes_numericas == 2:\n",
        "  if centenas_str != '':\n",
        "    segunda_parte = dezenas_str + unidades_str\n",
        "    print(f'{centenas_str} e {segunda_parte}')\n",
        "  else:\n",
        "    print(f'{dezenas_str} e {unidades_str}')"
      ],
      "metadata": {
        "id": "76_E8B3OtdxZ",
        "outputId": "efa837f3-1b55-4096-836f-18fa7fb6a01b",
        "colab": {
          "base_uri": "https://localhost:8080/"
        }
      },
      "execution_count": 88,
      "outputs": [
        {
          "output_type": "stream",
          "name": "stdout",
          "text": [
            "2 dezenas e 1 unidade\n"
          ]
        }
      ]
    }
  ]
}