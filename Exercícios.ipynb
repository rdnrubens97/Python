{
  "nbformat": 4,
  "nbformat_minor": 0,
  "metadata": {
    "colab": {
      "name": "Desafio1 - ex. 17",
      "provenance": [],
      "authorship_tag": "ABX9TyP0iItHx5m2bK+djU8Ke5CZ",
      "include_colab_link": true
    },
    "kernelspec": {
      "name": "python3",
      "display_name": "Python 3"
    },
    "language_info": {
      "name": "python"
    }
  },
  "cells": [
    {
      "cell_type": "markdown",
      "metadata": {
        "id": "view-in-github",
        "colab_type": "text"
      },
      "source": [
        "<a href=\"https://colab.research.google.com/github/rdnrubens97/Python/blob/main/Exerc%C3%ADcios.ipynb\" target=\"_parent\"><img src=\"https://colab.research.google.com/assets/colab-badge.svg\" alt=\"Open In Colab\"/></a>"
      ]
    },
    {
      "cell_type": "markdown",
      "source": [
        "#Desafio DevPro\n"
      ],
      "metadata": {
        "id": "yrDfhlBtwTe_"
      }
    },
    {
      "cell_type": "markdown",
      "source": [
        "Resolução de exercícios da lista [PythonBrasil](https://wiki.python.org.br/ListaDeExercicios)"
      ],
      "metadata": {
        "id": "9NHr24wFwVn7"
      }
    },
    {
      "cell_type": "markdown",
      "source": [
        "#Estrutura Sequencial [Exercícios](https://wiki.python.org.br/EstruturaSequencial)"
      ],
      "metadata": {
        "id": "jxpZjcFMw1EU"
      }
    },
    {
      "cell_type": "markdown",
      "source": [
        "##Exercício 1"
      ],
      "metadata": {
        "id": "1M5E5J5lxAKz"
      }
    },
    {
      "cell_type": "code",
      "source": [
        "print('Olá Mundo')"
      ],
      "metadata": {
        "colab": {
          "base_uri": "https://localhost:8080/"
        },
        "id": "AUaoHDDDxCns",
        "outputId": "e61ed9f3-fc17-4970-f41b-2ffb38aa3a4e"
      },
      "execution_count": null,
      "outputs": [
        {
          "output_type": "stream",
          "name": "stdout",
          "text": [
            "Olá Mundo\n"
          ]
        }
      ]
    },
    {
      "cell_type": "code",
      "source": [
        "type('Olá Mundo')"
      ],
      "metadata": {
        "colab": {
          "base_uri": "https://localhost:8080/"
        },
        "id": "MXIp_S1zxPAz",
        "outputId": "1c967757-eee9-4a68-d629-ed776fbee27a"
      },
      "execution_count": null,
      "outputs": [
        {
          "output_type": "execute_result",
          "data": {
            "text/plain": [
              "str"
            ]
          },
          "metadata": {},
          "execution_count": 2
        }
      ]
    },
    {
      "cell_type": "markdown",
      "source": [
        "##Exercício 2"
      ],
      "metadata": {
        "id": "ZmZO-FZvydn4"
      }
    },
    {
      "cell_type": "code",
      "source": [
        "numero = input(\"Digite um número: \")\n",
        "print(f'O número informado foi: {numero}')"
      ],
      "metadata": {
        "colab": {
          "base_uri": "https://localhost:8080/"
        },
        "id": "MNpJUfNGygLi",
        "outputId": "84516751-c029-47ef-f461-3c9dfcf0f8e2"
      },
      "execution_count": null,
      "outputs": [
        {
          "output_type": "stream",
          "name": "stdout",
          "text": [
            "Digite um número: 52\n",
            "O número informado foi: 52\n"
          ]
        }
      ]
    },
    {
      "cell_type": "markdown",
      "source": [
        "##Exercício 3"
      ],
      "metadata": {
        "id": "kJrcvSoYzGIR"
      }
    },
    {
      "cell_type": "code",
      "source": [
        "numero_1 = int(input('Digite um numero: '))\n",
        "numero_2 = int(input('Digite outro numero: '))\n",
        "soma = numero_1 + numero_2\n",
        "print(f'A soma dos dois números é: {soma}')"
      ],
      "metadata": {
        "colab": {
          "base_uri": "https://localhost:8080/"
        },
        "id": "FCBlS5MezI6e",
        "outputId": "95aed6da-ff93-4244-9fc6-a76797e110c8"
      },
      "execution_count": null,
      "outputs": [
        {
          "output_type": "stream",
          "name": "stdout",
          "text": [
            "Digite um numero: 10\n",
            "Digite outro numero: 1\n",
            "A soma dos dois números é: 11\n"
          ]
        }
      ]
    },
    {
      "cell_type": "markdown",
      "source": [
        "##Exercício 17"
      ],
      "metadata": {
        "id": "2e4EqhaZ0X1_"
      }
    },
    {
      "cell_type": "code",
      "source": [
        "area_pintura = float(input(\"Qual é a área a ser pintada em m2: \"))\n",
        "litros = (area_pintura*1.1) / 6 #multiplicamos por 1.1 por conta da folga de 10% na quantidade de litros\n",
        "\n",
        "print(litros)\n",
        "\n"
      ],
      "metadata": {
        "colab": {
          "base_uri": "https://localhost:8080/"
        },
        "id": "y7kTx9RI0oPT",
        "outputId": "392f476a-152b-41ef-f0fc-3a93753679aa"
      },
      "execution_count": null,
      "outputs": [
        {
          "output_type": "stream",
          "name": "stdout",
          "text": [
            "Qual é a área a ser pintada em m2: 100\n",
            "18.333333333333336\n"
          ]
        }
      ]
    },
    {
      "cell_type": "code",
      "source": [
        "import math\n",
        "\n",
        "escolha = str(input(\"Sua escolha será em comprar latas, comprar galoes ou misturar latas e galoes (latas, galoes, misturar)?\"))\n",
        "\n",
        "if escolha == 'latas':\n",
        "  quantidade_latas = math.ceil(litros / 18)\n",
        "  preco_latas = quantidade_latas * 80\n",
        "  print(f'Serão necessárias {quantidade_latas} lata(s), totalizando o valor de R${preco_latas}.')\n",
        "elif escolha =='galoes':\n",
        "  quantidade_galoes = math.ceil(litros / 3.6)\n",
        "  preco_galoes = quantidade_galoes * 25\n",
        "  print(f'Serão necessários {quantidade_galoes} galão(ões), totalizando o valor de R${preco_galoes}.')\n",
        "else:\n",
        "  quantidade_latas_na_mistura = math.ceil(litros // 18)\n",
        "  quantidade_galoes_na_mistura = math.ceil((litros % 18) / 3.6)\n",
        "  preco_latas_na_mistura = quantidade_latas_na_mistura * 80\n",
        "  preco_galoes_na_mistura = quantidade_galoes_na_mistura * 25\n",
        "  preco_mistura = preco_galoes_na_mistura + preco_latas_na_mistura\n",
        "  print(f'Serão necessárias {quantidade_latas_na_mistura} lata(s) e {quantidade_galoes_na_mistura} galão(ões), totalizando o valor de R${preco_mistura}.')\n",
        "\n",
        "\n"
      ],
      "metadata": {
        "colab": {
          "base_uri": "https://localhost:8080/"
        },
        "id": "hXA5r7CAMUbG",
        "outputId": "bb7e45f3-56b5-4f88-aac0-cde38790415c"
      },
      "execution_count": null,
      "outputs": [
        {
          "output_type": "stream",
          "name": "stdout",
          "text": [
            "Sua escolha será em comprar latas, comprar galoes ou misturar latas e galoes (latas, galoes, misturar)?mistura\n",
            "Serão necessárias 1 lata(s) e 1 galão(ões), totalizando o valor de R$105.\n"
          ]
        }
      ]
    },
    {
      "cell_type": "code",
      "source": [
        "import math\n",
        "\n",
        "quantidade_latas = math.ceil(litros / 18)\n",
        "preco_latas = quantidade_latas * 80\n",
        "print(f'Serão necessárias {quantidade_latas} lata(s), totalizando o valor de R${preco_latas}.')\n",
        "\n",
        "quantidade_galoes = math.ceil(litros / 3.6)\n",
        "preco_galoes = quantidade_galoes * 25\n",
        "print(f'Serão necessários {quantidade_galoes} galão(ões), totalizando o valor de R${preco_galoes}.')\n",
        "\n",
        "quantidade_latas_na_mistura = math.ceil(litros // 18)\n",
        "quantidade_galoes_na_mistura = math.ceil((litros % 18) / 3.6)\n",
        "preco_latas_na_mistura = quantidade_latas_na_mistura * 80\n",
        "preco_galoes_na_mistura = quantidade_galoes_na_mistura * 25\n",
        "preco_mistura = preco_galoes_na_mistura + preco_latas_na_mistura\n",
        "print(f'Serão necessárias {quantidade_latas_na_mistura} lata(s) e {quantidade_galoes_na_mistura} galão(ões), totalizando o valor de R${preco_mistura}.')"
      ],
      "metadata": {
        "colab": {
          "base_uri": "https://localhost:8080/"
        },
        "id": "_F3MrndvQhY_",
        "outputId": "1bf7e2c2-7ebc-4ba8-9afe-ae818147369c"
      },
      "execution_count": null,
      "outputs": [
        {
          "output_type": "stream",
          "name": "stdout",
          "text": [
            "Serão necessárias 2 lata(s), totalizando o valor de R$160.\n",
            "Serão necessários 6 galão(ões), totalizando o valor de R$150.\n",
            "Serão necessárias 1 lata(s) e 1 galão(ões), totalizando o valor de R$105.\n"
          ]
        }
      ]
    },
    {
      "cell_type": "markdown",
      "source": [
        "#Estrutura de Decisão:"
      ],
      "metadata": {
        "id": "cLE3ysSddqf8"
      }
    },
    {
      "cell_type": "markdown",
      "source": [
        "####Ex 3:"
      ],
      "metadata": {
        "id": "3aRBWgbsdtdD"
      }
    },
    {
      "cell_type": "code",
      "source": [
        "True, False\n",
        "print(5<6)\n",
        "print(5>=6)\n",
        "print(5 == 6)\n",
        "print(5 != 6)\n",
        "print('M' == 'A')\n",
        "print('M' == 'M')\n",
        "print('M' == 'm')\n",
        "print('Rubens'.lower(), 'Rubens'.upper())"
      ],
      "metadata": {
        "colab": {
          "base_uri": "https://localhost:8080/"
        },
        "id": "GrhS3RfweKDI",
        "outputId": "cbf55d4d-432f-4eb7-d3ce-34936797fb7c"
      },
      "execution_count": null,
      "outputs": [
        {
          "output_type": "stream",
          "name": "stdout",
          "text": [
            "True\n",
            "False\n",
            "False\n",
            "True\n",
            "False\n",
            "True\n",
            "False\n",
            "rubens RUBENS\n"
          ]
        }
      ]
    },
    {
      "cell_type": "code",
      "source": [
        "sexo = input('Digite o seu sexo (m, f ou i):').upper()\n",
        "if sexo == 'M':\n",
        "  print('Masculino')\n",
        "elif sexo == 'F':\n",
        "  print('Feminino')  \n",
        "elif sexo == 'I':\n",
        "  print('Indefinido')\n",
        "else:\n",
        "  print('Sexo inválido')\n",
        "\n",
        "print('Finalizou o programa.')"
      ],
      "metadata": {
        "colab": {
          "base_uri": "https://localhost:8080/"
        },
        "id": "feCHeTJufJu7",
        "outputId": "3464daf5-bec9-4f90-92cd-8767b36e0160"
      },
      "execution_count": null,
      "outputs": [
        {
          "output_type": "stream",
          "name": "stdout",
          "text": [
            "Digite o seu sexo (m, f ou i):a\n",
            "Sexo inválido\n",
            "Finalizou o programa.\n"
          ]
        }
      ]
    },
    {
      "cell_type": "markdown",
      "source": [
        "####Ex 5:"
      ],
      "metadata": {
        "id": "DF72QzTlhDzR"
      }
    },
    {
      "cell_type": "code",
      "source": [
        "nota_1 = float(input('Digite sua nota da primeira avaliação: '))\n",
        "nota_2 = float(input('Digite sua nota da segunda avaliação: '))\n",
        "media = (nota_1 + nota_2) / 2\n",
        "\n",
        "if media == 10:\n",
        "  print('Aprovado com Distinção.')\n",
        "elif media >= 7:\n",
        "  print('Apovado.')\n",
        "else:\n",
        "  print('Reprovado.')    "
      ],
      "metadata": {
        "colab": {
          "base_uri": "https://localhost:8080/"
        },
        "id": "VRwwq3JRhFxP",
        "outputId": "f23e2e0c-9722-4222-fd7f-6313e5c78ed3"
      },
      "execution_count": null,
      "outputs": [
        {
          "output_type": "stream",
          "name": "stdout",
          "text": [
            "Digite sua nota da primeira avaliação: 7\n",
            "Digite sua nota da segunda avaliação: 6\n",
            "Reprovado.\n"
          ]
        }
      ]
    },
    {
      "cell_type": "markdown",
      "source": [
        "#### Ex 19:\n"
      ],
      "metadata": {
        "id": "Cg40aBm4jUC6"
      }
    },
    {
      "cell_type": "code",
      "source": [
        "numero = 306\n",
        "\n",
        "centenas_str = dezenas_str = unidades_str = ''\n",
        "centenas_int = numero // 100\n",
        "dezenas_int = (numero - (centenas_int *100)) // 10\n",
        "unidades_int = numero - (centenas_int * 100 + dezenas_int * 10)\n",
        "\n",
        "if centenas_int == 1:\n",
        "  centenas_str = '1 centena'\n",
        "if centenas_int > 1:\n",
        "  centenas_str = f'{centenas_int} centenas'\n",
        "if dezenas_int == 1:\n",
        "  dezenas_str = '1 dezena'\n",
        "if dezenas_int > 1:\n",
        "  dezenas_str = f'{dezenas_int} dezenas'\n",
        "if unidades_int == 1:\n",
        "  unidades_str = '1 unidades'\n",
        "if unidades_int > 1:\n",
        "  unidades_str = f'{unidades_int} unidades'\n",
        "      \n",
        "\n",
        "print(centenas_str, dezenas_str, unidades_str)"
      ],
      "metadata": {
        "colab": {
          "base_uri": "https://localhost:8080/"
        },
        "id": "-4c6uDm7jGe2",
        "outputId": "8e77b6d0-5415-4493-e3b2-e78c7452c87d"
      },
      "execution_count": null,
      "outputs": [
        {
          "output_type": "stream",
          "name": "stdout",
          "text": [
            "3 centenas  6 unidades\n"
          ]
        }
      ]
    },
    {
      "cell_type": "code",
      "source": [
        "numero = 21\n",
        "\n",
        "centenas_str = dezenas_str = unidades_str = ''\n",
        "partes_numericas = 0\n",
        "\n",
        "centenas_int = numero // 100\n",
        "centenas_int, numero = divmod(numero, 100)\n",
        "\n",
        "if centenas_int == 1:\n",
        "  centenas_str = '1 centena'\n",
        "  partes_numericas += 1\n",
        "if centenas_int > 1:\n",
        "  centenas_str = f'{centenas_int} centenas'\n",
        "  partes_numericas += 1\n",
        "\n",
        "dezenas_int, numero = divmod(numero, 10)\n",
        "\n",
        "if dezenas_int == 1:\n",
        "  dezenas_str = '1 dezena'\n",
        "  partes_numericas += 1\n",
        "if dezenas_int > 1:\n",
        "  dezenas_str = f'{dezenas_int} dezenas'\n",
        "  partes_numericas += 1\n",
        "\n",
        "unidades_int, numero = divmod(numero, 1)\n",
        "\n",
        "if unidades_int == 1:\n",
        "  unidades_str = '1 unidade'\n",
        "  partes_numericas += 1\n",
        "if unidades_int > 1:\n",
        "  unidades_str = f'{unidades_int} unidades'\n",
        "  partes_numericas += 1\n",
        "      \n",
        "if partes_numericas == 0:\n",
        "  print('Número zero não possui centenas, dezenas ou unidades')\n",
        "elif partes_numericas == 1:\n",
        "  print(centenas_str + dezenas_str + unidades_str)\n",
        "elif partes_numericas == 3:\n",
        "  print(f'{centenas_str}, {dezenas_str} e {unidades_str}')\n",
        "elif partes_numericas == 2:\n",
        "  if centenas_str != '':\n",
        "    segunda_parte = dezenas_str + unidades_str\n",
        "    print(f'{centenas_str} e {segunda_parte}')\n",
        "  else:\n",
        "    print(f'{dezenas_str} e {unidades_str}')"
      ],
      "metadata": {
        "colab": {
          "base_uri": "https://localhost:8080/"
        },
        "id": "76_E8B3OtdxZ",
        "outputId": "efa837f3-1b55-4096-836f-18fa7fb6a01b"
      },
      "execution_count": null,
      "outputs": [
        {
          "output_type": "stream",
          "name": "stdout",
          "text": [
            "2 dezenas e 1 unidade\n"
          ]
        }
      ]
    },
    {
      "cell_type": "markdown",
      "source": [
        "####Ex 21:"
      ],
      "metadata": {
        "id": "anHLYX0L4Ykj"
      }
    },
    {
      "cell_type": "code",
      "source": [
        "valor = 299\n",
        "\n",
        "centenas_str = dezenas_str = unidades_str = ''\n",
        "partes_numericas = 0\n",
        "\n",
        "centenas_int, valor = divmod(valor, 100)\n",
        "if centenas_int == 1:\n",
        "  centenas_str = 'Uma nota de R$100'\n",
        "else:\n",
        "  centenas_str = f'{centenas_int} notas de R$100'\n",
        "\n",
        "if centenas_int != 0:\n",
        "  partes_numericas +=1\n",
        "\n",
        "dezenas_int, valor = divmod(valor, 10)\n",
        "if dezenas_int == 1:\n",
        "  dezenas_str = 'Uma nota de R$10'\n",
        "elif dezenas_int < 5:\n",
        "  dezenas_str = f'{dezenas_int} notas de R$10'\n",
        "elif dezenas_int == 5:\n",
        "  dezenas_str = 'Cinco notas de R$10'\n",
        "elif dezenas_int > 5:\n",
        "  n50, n10 = divmod(dezenas_int*10, 50)\n",
        "  dezenas_str = f'Uma nota de R$50 e {n10/10} notas de 10'\n",
        "\n",
        "\n",
        "if dezenas_int != 0:\n",
        "  partes_numericas +=1\n",
        "\n",
        "unidades_int, valor = divmod(valor, 1)\n",
        "if unidades_int < 5:\n",
        "  unidades_str\n",
        "\n",
        "if unidades_int != 0:\n",
        "  partes_numericas +=1\n",
        "\n",
        "print(dezenas_int)\n",
        "print(dezenas_str)\n",
        "\n"
      ],
      "metadata": {
        "id": "gb7vTJcu4ah2",
        "outputId": "40bcfca6-ce71-4260-f781-1e6c4dca4978",
        "colab": {
          "base_uri": "https://localhost:8080/"
        }
      },
      "execution_count": null,
      "outputs": [
        {
          "output_type": "stream",
          "name": "stdout",
          "text": [
            "9\n",
            "Uma nota de R$50 e 4.0 notas de 10\n"
          ]
        }
      ]
    },
    {
      "cell_type": "code",
      "source": [
        "saque = 166\n",
        "\n",
        "notas_100 = notas_50 = notas_10 = notas_5 = notas_1 = 0\n",
        "\n",
        "notas_100, saque = divmod(saque, 100)\n",
        "notas_50, saque = divmod(saque, 50)\n",
        "notas_10, saque = divmod(saque,10)\n",
        "notas_5, notas_1 = divmod(saque, 5)\n",
        "\n",
        "if notas_100 > 0:\n",
        "  print(f'{notas_100} nota(s) de R$100')\n",
        "if notas_50 > 0:\n",
        "  print(f'{notas_50} nota(s) de R$50')  \n",
        "if notas_10 > 0:\n",
        "  print(f'{notas_10} nota(s) de R$10')\n",
        "if notas_5 > 0:\n",
        "  print(f'{notas_5} nota(s) de R$5')\n",
        "if notas_1 > 0:\n",
        "  print(f'{notas_1} nota(s) de R$1')  \n"
      ],
      "metadata": {
        "id": "iJac4KOgbqtl",
        "outputId": "c7b66561-85ec-46a6-dd03-ee8335294480",
        "colab": {
          "base_uri": "https://localhost:8080/"
        }
      },
      "execution_count": null,
      "outputs": [
        {
          "output_type": "stream",
          "name": "stdout",
          "text": [
            "1 nota(s) de R$100\n",
            "1 nota(s) de R$50\n",
            "1 nota(s) de R$10\n",
            "1 nota(s) de R$5\n",
            "1 nota(s) de R$1\n"
          ]
        }
      ]
    },
    {
      "cell_type": "markdown",
      "source": [
        "#Estrutura de Decisão:"
      ],
      "metadata": {
        "id": "FLHdYTPid45U"
      }
    },
    {
      "cell_type": "code",
      "source": [
        "while True:\n",
        "\n",
        "  try:\n",
        "    numero = int(input('Digite um valor de 1 a 10'))\n",
        "  except ValueError:\n",
        "    print('Deve ser fornecido um número inteiro')  \n",
        "  else:\n",
        "    if 0 <= numero <= 10:\n",
        "      print(f'O número informado foi: {numero}.')\n",
        "      break\n",
        "    else:\n",
        "      print('O número deve estar entre 0 e 10')\n",
        "\n"
      ],
      "metadata": {
        "id": "TRMhuKkad9nJ",
        "outputId": "d49795b2-fe24-4073-c52e-bf44a0a425c4",
        "colab": {
          "base_uri": "https://localhost:8080/"
        }
      },
      "execution_count": null,
      "outputs": [
        {
          "output_type": "stream",
          "name": "stdout",
          "text": [
            "Digite um valor de 1 a 10102\n",
            "O número deve estar entre 0 e 10\n",
            "Digite um valor de 1 a 10l\n",
            "Deve ser fornecido um número inteiro\n",
            "Digite um valor de 1 a 1010\n",
            "O número informado foi: 10.\n"
          ]
        }
      ]
    },
    {
      "cell_type": "markdown",
      "source": [
        "####Ex 7:"
      ],
      "metadata": {
        "id": "03A2bXxHrr0t"
      }
    },
    {
      "cell_type": "code",
      "source": [
        "r=0\n",
        "numbers = []\n",
        "\n",
        "while r < 5:\n",
        "  n = int(input('Digite um número: '))\n",
        "  numbers.append(n)\n",
        "  r += 1\n",
        "\n",
        "maior = max(numbers)\n",
        "print(f'O maior número da lista é o: {maior}.')"
      ],
      "metadata": {
        "colab": {
          "base_uri": "https://localhost:8080/"
        },
        "id": "PnH-zDshrtf7",
        "outputId": "53479e6e-cfe3-469e-9d4f-7b1b0d7511b3"
      },
      "execution_count": null,
      "outputs": [
        {
          "output_type": "stream",
          "name": "stdout",
          "text": [
            "Digite um número: 12\n",
            "Digite um número: 8\n",
            "Digite um número: 16\n",
            "Digite um número: 22\n",
            "Digite um número: 31\n",
            "O maior número da lista é o: 31.\n"
          ]
        }
      ]
    },
    {
      "cell_type": "markdown",
      "source": [
        "####Ex 16:\n"
      ],
      "metadata": {
        "id": "NRC0Y2xdwLVo"
      }
    },
    {
      "cell_type": "code",
      "source": [
        "salarios = []\n",
        "\n",
        "while True:\n",
        "  vb = int(input('Valor bruto de vendas: '))\n",
        "  if vb != -1:\n",
        "    salario = int(200 + (0.09 * vb))\n",
        "    salarios.append(salario)\n",
        "  else:\n",
        "    break  \n",
        "\n",
        "contagem_faixas_salariais = [0] * 9\n",
        "\n",
        "for salario in salarios:\n",
        "  indice = salario // 100 - 2\n",
        "  indice_maximo = len(contagem_faixas_salariais) - 1\n",
        "  indice = min(indice, indice_maximo)\n",
        "  contagem_faixas_salariais[indice] += 1\n",
        "\n",
        "print(contagem_faixas_salariais)\n",
        "\n"
      ],
      "metadata": {
        "id": "VtLLO1mCwPdN",
        "outputId": "344f8e97-a130-490b-f534-4bdb2ba77232",
        "colab": {
          "base_uri": "https://localhost:8080/"
        }
      },
      "execution_count": null,
      "outputs": [
        {
          "output_type": "stream",
          "name": "stdout",
          "text": [
            "Valor bruto de vendas: 121547\n",
            "Valor bruto de vendas: 5157\n",
            "Valor bruto de vendas: 515247\n",
            "Valor bruto de vendas: 5487\n",
            "Valor bruto de vendas: 1\n",
            "Valor bruto de vendas: -1\n",
            "[1, 0, 0, 0, 2, 0, 0, 0, 2]\n"
          ]
        }
      ]
    },
    {
      "cell_type": "markdown",
      "source": [
        "#Funções"
      ],
      "metadata": {
        "id": "YTxTeMyEif3u"
      }
    },
    {
      "cell_type": "markdown",
      "source": [
        "####Ex 1:"
      ],
      "metadata": {
        "id": "ljaXvLqRiqlh"
      }
    },
    {
      "cell_type": "code",
      "source": [
        "def imprimir_triangulo_de_numeros(n: int):\n",
        "  for i in range(1, n + 1): \n",
        "    for _ in range(i):\n",
        "      print(i, end='   ')\n",
        "    print('')\n",
        "\n",
        "\n",
        "print('Triangulo com 1:')\n",
        "imprimir_triangulo_de_numeros(1)\n",
        "print('Triangulo com 2:')\n",
        "imprimir_triangulo_de_numeros(2)\n",
        "print('Triangulo com 3:')\n",
        "imprimir_triangulo_de_numeros(3)\n"
      ],
      "metadata": {
        "colab": {
          "base_uri": "https://localhost:8080/"
        },
        "id": "y_Hdh6cQih61",
        "outputId": "d772b173-3d01-496a-a9b1-87872d568c13"
      },
      "execution_count": null,
      "outputs": [
        {
          "output_type": "stream",
          "name": "stdout",
          "text": [
            "Triangulo com 1:\n",
            "1   \n",
            "Triangulo com 2:\n",
            "1   \n",
            "2   2   \n",
            "Triangulo com 3:\n",
            "1   \n",
            "2   2   \n",
            "3   3   3   \n"
          ]
        }
      ]
    },
    {
      "cell_type": "code",
      "source": [
        "def imprimir(n: int):\n",
        "  for linha in range(1, n + 1): \n",
        "    for coluna in range(1, linha + 1):\n",
        "      print(coluna, end='   ')\n",
        "    print('')\n",
        "\n",
        "\n",
        "\n",
        "\n",
        "imprimir(5)"
      ],
      "metadata": {
        "colab": {
          "base_uri": "https://localhost:8080/"
        },
        "id": "2D1R1A3xlEXc",
        "outputId": "60fe11a1-4c1a-4a05-d202-bcaee4a1f6f8"
      },
      "execution_count": null,
      "outputs": [
        {
          "output_type": "stream",
          "name": "stdout",
          "text": [
            "1   \n",
            "1   2   \n",
            "1   2   3   \n",
            "1   2   3   4   \n",
            "1   2   3   4   5   \n"
          ]
        }
      ]
    },
    {
      "cell_type": "code",
      "source": [
        "s1 = str(input('Digite a primeira string: '))\n",
        "s2 = str(input('Digite a segunda string: '))\n",
        "def conteudo(s1, s2):\n",
        "  print(f'O counteúdo de s1 é: \"{s1}\". Seu tamanho é de: {len(s1)} caracteres.')\n",
        "  print(f'O counteúdo de s2 é: \"{s2}\". Seu tamanho é de: {len(s2)} caracteres.')\n",
        "\n",
        "\n",
        "def compara_tamanho(s1, s2):\n",
        "  if len(s1) > len(s2):\n",
        "    print(f'\"{s1}\"\" é maior que \"{s2}\"')\n",
        "  elif len(s1) < len(s2):\n",
        "    print(f'\"{s2}\" é maior que \"{s1}\"')\n",
        "  else:\n",
        "    print(f'\"{s1}\"\" possui o mesmo tamnho de \"{s2}\"')\n",
        "\n",
        "conteudo(s1, s2)\n",
        "compara_tamanho(s1, s2)\n",
        "\n"
      ],
      "metadata": {
        "colab": {
          "base_uri": "https://localhost:8080/"
        },
        "id": "H7Jq6zOYpEV3",
        "outputId": "b1ab3e12-19cb-4887-eae1-5587ae976728"
      },
      "execution_count": null,
      "outputs": [
        {
          "output_type": "stream",
          "name": "stdout",
          "text": [
            "Digite a primeira string: Rubens\n",
            "Digite a segunda string: Rubens Dias\n",
            "O counteúdo de s1 é: \"Rubens\". Seu tamanho é de: 6 caracteres.\n",
            "O counteúdo de s2 é: \"Rubens Dias\". Seu tamanho é de: 11 caracteres.\n",
            "\"Rubens Dias\" é maior que \"Rubens\"\n"
          ]
        }
      ]
    },
    {
      "cell_type": "code",
      "source": [
        "nome = str(input('Digite seu nome: '))\n",
        "nome_maiusculo = nome.upper()\n",
        "inverter = nome_maiusculo[::-1]\n",
        "\n",
        "\n",
        "print(f'Seu nome maiúsculo é invertido é: {inverter}.')"
      ],
      "metadata": {
        "colab": {
          "base_uri": "https://localhost:8080/"
        },
        "id": "YiRl4ksbvqWF",
        "outputId": "cdac3492-b607-4c55-d69a-c7363f7754f3"
      },
      "execution_count": null,
      "outputs": [
        {
          "output_type": "stream",
          "name": "stdout",
          "text": [
            "Digite seu nome: RUbeSNE\n",
            "Seu nome maiúsculo é invertido é: ENSEBUR.\n"
          ]
        }
      ]
    },
    {
      "cell_type": "code",
      "source": [
        "palavra = 'DevPro'.upper()\n",
        "conjunto_palavra = set(palavra)\n",
        "conjunto_letras_digitadas = set()\n",
        "erros = 0\n",
        "\n",
        "print('Jogo da Forca:')\n",
        "print('Descubra a palavra.')\n",
        "print()\n",
        "print('A palavra é:', end = '')\n",
        "for letra in palavra:\n",
        "  print('_ ', end = '')\n",
        "print('')\n",
        "print('')\n",
        "\n",
        "while not conjunto_palavra.issubset(conjunto_letras_digitadas) and erros < 7:\n",
        "  print()\n",
        "  letra_digitada = input('Digite uma letra: ').upper()\n",
        "  conjunto_letras_digitadas.add(letra_digitada)\n",
        "  if letra_digitada in conjunto_palavra:\n",
        "    print('A palavra é: ', end = '')\n",
        "    for letra in palavra:\n",
        "      if letra in conjunto_letras_digitadas:\n",
        "        print(f'{letra} ', end = '')\n",
        "      else:\n",
        "        print('_ ', end = '')\n",
        "  else:\n",
        "    erros += 1\n",
        "    print(f'Você errou. Erro de número {erros} de 6.')\n",
        "  print()\n",
        "  print()\n",
        "  print('Letras já digitadas: ', conjunto_letras_digitadas)\n",
        "\n",
        "if erros < 7:\n",
        "  print('Parabéns, você ganhou!')\n",
        "else:\n",
        "  print('Você perdeu.')\n",
        "     \n"
      ],
      "metadata": {
        "id": "IfvxRgH9nfx2",
        "outputId": "ead26c98-f9d1-417e-8c95-b2c4ec0eea6e",
        "colab": {
          "base_uri": "https://localhost:8080/"
        }
      },
      "execution_count": 52,
      "outputs": [
        {
          "output_type": "stream",
          "name": "stdout",
          "text": [
            "Jogo da Forca:\n",
            "Descubra a palavra.\n",
            "\n",
            "A palavra é:_ _ _ _ _ _ \n",
            "\n",
            "\n",
            "Digite uma letra: w\n",
            "Você errou. Erro de número 1 de 6.\n",
            "\n",
            "\n",
            "Letras já digitadas:  {'W'}\n",
            "\n",
            "Digite uma letra: t\n",
            "Você errou. Erro de número 2 de 6.\n",
            "\n",
            "\n",
            "Letras já digitadas:  {'W', 'T'}\n",
            "\n",
            "Digite uma letra: x\n",
            "Você errou. Erro de número 3 de 6.\n",
            "\n",
            "\n",
            "Letras já digitadas:  {'W', 'T', 'X'}\n",
            "\n",
            "Digite uma letra: z\n",
            "Você errou. Erro de número 4 de 6.\n",
            "\n",
            "\n",
            "Letras já digitadas:  {'W', 'Z', 'T', 'X'}\n",
            "\n",
            "Digite uma letra: p\n",
            "A palavra é: _ _ _ P _ _ \n",
            "\n",
            "Letras já digitadas:  {'W', 'P', 'T', 'X', 'Z'}\n",
            "\n",
            "Digite uma letra: l\n",
            "Você errou. Erro de número 5 de 6.\n",
            "\n",
            "\n",
            "Letras já digitadas:  {'W', 'P', 'L', 'T', 'X', 'Z'}\n",
            "\n",
            "Digite uma letra: ç\n",
            "Você errou. Erro de número 6 de 6.\n",
            "\n",
            "\n",
            "Letras já digitadas:  {'W', 'P', 'L', 'T', 'X', 'Ç', 'Z'}\n",
            "\n",
            "Digite uma letra: q\n",
            "Você errou. Erro de número 7 de 6.\n",
            "\n",
            "\n",
            "Letras já digitadas:  {'W', 'P', 'L', 'T', 'X', 'Ç', 'Z', 'Q'}\n",
            "Você perdeu.\n"
          ]
        }
      ]
    }
  ]
}